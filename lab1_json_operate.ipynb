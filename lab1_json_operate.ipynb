
jsonObjectString = open("./formission.json",'r')

import json
from pprint import pprint

jsonObject = json.load(jsonObjectString)
